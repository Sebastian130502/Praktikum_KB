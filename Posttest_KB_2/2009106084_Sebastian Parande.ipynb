{
 "cells": [
  {
   "cell_type": "markdown",
   "id": "d6b500d1-1e4f-4296-abab-8c05b01fe8bc",
   "metadata": {},
   "source": [
    "# Posttest 2"
   ]
  },
  {
   "cell_type": "markdown",
   "id": "1db31e15-8337-47ff-89e9-59f8c155080b",
   "metadata": {
    "tags": []
   },
   "source": [
    "# Import Package\n",
    "Library Pandas"
   ]
  },
  {
   "cell_type": "code",
   "execution_count": 26,
   "id": "a8e438b3-6aef-482e-b1e5-c3322b20816e",
   "metadata": {},
   "outputs": [],
   "source": [
    "import pandas as pd"
   ]
  },
  {
   "cell_type": "markdown",
   "id": "bdca7a53-2356-40b8-a57b-000412170bd7",
   "metadata": {},
   "source": [
    "# Membaca Dataset"
   ]
  },
  {
   "cell_type": "code",
   "execution_count": 27,
   "id": "fad1926b-3120-4a19-9001-eb50616b2e97",
   "metadata": {},
   "outputs": [
    {
     "data": {
      "text/html": [
       "<div>\n",
       "<style scoped>\n",
       "    .dataframe tbody tr th:only-of-type {\n",
       "        vertical-align: middle;\n",
       "    }\n",
       "\n",
       "    .dataframe tbody tr th {\n",
       "        vertical-align: top;\n",
       "    }\n",
       "\n",
       "    .dataframe thead th {\n",
       "        text-align: right;\n",
       "    }\n",
       "</style>\n",
       "<table border=\"1\" class=\"dataframe\">\n",
       "  <thead>\n",
       "    <tr style=\"text-align: right;\">\n",
       "      <th></th>\n",
       "      <th>model</th>\n",
       "      <th>year</th>\n",
       "      <th>price</th>\n",
       "      <th>transmission</th>\n",
       "      <th>mileage</th>\n",
       "      <th>fuelType</th>\n",
       "      <th>tax</th>\n",
       "      <th>mpg</th>\n",
       "      <th>engineSize</th>\n",
       "    </tr>\n",
       "  </thead>\n",
       "  <tbody>\n",
       "    <tr>\n",
       "      <th>0</th>\n",
       "      <td>5 Series</td>\n",
       "      <td>2014</td>\n",
       "      <td>11200</td>\n",
       "      <td>Automatic</td>\n",
       "      <td>67068</td>\n",
       "      <td>Diesel</td>\n",
       "      <td>125</td>\n",
       "      <td>57.6</td>\n",
       "      <td>2.0</td>\n",
       "    </tr>\n",
       "    <tr>\n",
       "      <th>1</th>\n",
       "      <td>6 Series</td>\n",
       "      <td>2018</td>\n",
       "      <td>27000</td>\n",
       "      <td>Automatic</td>\n",
       "      <td>14827</td>\n",
       "      <td>Petrol</td>\n",
       "      <td>145</td>\n",
       "      <td>42.8</td>\n",
       "      <td>2.0</td>\n",
       "    </tr>\n",
       "    <tr>\n",
       "      <th>2</th>\n",
       "      <td>5 Series</td>\n",
       "      <td>2016</td>\n",
       "      <td>16000</td>\n",
       "      <td>Automatic</td>\n",
       "      <td>62794</td>\n",
       "      <td>Diesel</td>\n",
       "      <td>160</td>\n",
       "      <td>51.4</td>\n",
       "      <td>3.0</td>\n",
       "    </tr>\n",
       "    <tr>\n",
       "      <th>3</th>\n",
       "      <td>1 Series</td>\n",
       "      <td>2017</td>\n",
       "      <td>12750</td>\n",
       "      <td>Automatic</td>\n",
       "      <td>26676</td>\n",
       "      <td>Diesel</td>\n",
       "      <td>145</td>\n",
       "      <td>72.4</td>\n",
       "      <td>1.5</td>\n",
       "    </tr>\n",
       "    <tr>\n",
       "      <th>4</th>\n",
       "      <td>7 Series</td>\n",
       "      <td>2014</td>\n",
       "      <td>14500</td>\n",
       "      <td>Automatic</td>\n",
       "      <td>39554</td>\n",
       "      <td>Diesel</td>\n",
       "      <td>160</td>\n",
       "      <td>50.4</td>\n",
       "      <td>3.0</td>\n",
       "    </tr>\n",
       "  </tbody>\n",
       "</table>\n",
       "</div>"
      ],
      "text/plain": [
       "       model  year  price transmission  mileage fuelType  tax   mpg  \\\n",
       "0   5 Series  2014  11200    Automatic    67068   Diesel  125  57.6   \n",
       "1   6 Series  2018  27000    Automatic    14827   Petrol  145  42.8   \n",
       "2   5 Series  2016  16000    Automatic    62794   Diesel  160  51.4   \n",
       "3   1 Series  2017  12750    Automatic    26676   Diesel  145  72.4   \n",
       "4   7 Series  2014  14500    Automatic    39554   Diesel  160  50.4   \n",
       "\n",
       "   engineSize  \n",
       "0         2.0  \n",
       "1         2.0  \n",
       "2         3.0  \n",
       "3         1.5  \n",
       "4         3.0  "
      ]
     },
     "execution_count": 27,
     "metadata": {},
     "output_type": "execute_result"
    }
   ],
   "source": [
    "data = pd.read_csv(\"bmw.csv\")\n",
    "data.head()"
   ]
  },
  {
   "cell_type": "markdown",
   "id": "133356bb",
   "metadata": {},
   "source": [
    "# Informasi Dataset"
   ]
  },
  {
   "cell_type": "code",
   "execution_count": 28,
   "id": "bc234d04",
   "metadata": {},
   "outputs": [
    {
     "data": {
      "text/plain": [
       "Total Record                                                          10781\n",
       "Nama Attribute            [model, year, price, transmission, mileage, fu...\n",
       "Jumlah Attribute Objek                                                    3\n",
       "Jumlah Attribute Angka                                                    6\n",
       "Jumlah NULL                                                               0\n",
       "dtype: object"
      ]
     },
     "execution_count": 28,
     "metadata": {},
     "output_type": "execute_result"
    }
   ],
   "source": [
    "totalrecord = len(data)\n",
    "attribute = list(data.columns)\n",
    "objek = len(data.select_dtypes(include=['object']).columns)\n",
    "angka = len(data.select_dtypes(include=['int64', 'float64']).columns)\n",
    "NULL = len(data.columns[data.isna().sum() > 0])\n",
    "\n",
    "\n",
    "dict = {\n",
    "    \"Total Record\"            : totalrecord,\n",
    "    \"Nama Attribute\"          : attribute,\n",
    "    \"Jumlah Attribute Objek\"  : objek,\n",
    "    \"Jumlah Attribute Angka\"  : angka,\n",
    "    \"Jumlah NULL\"             : NULL,\n",
    "}\n",
    "\n",
    "pd.Series(dict)"
   ]
  },
  {
   "cell_type": "markdown",
   "id": "9be6e94f",
   "metadata": {
    "jp-MarkdownHeadingCollapsed": true,
    "tags": []
   },
   "source": [
    "# Atribut Bertipe Angka \n",
    "\n",
    "**year**\\\n",
    "**price**\\\n",
    "**mileage**\\\n",
    "**tax**\\\n",
    "**mpg**\\\n",
    "**engineSize**"
   ]
  },
  {
   "cell_type": "markdown",
   "id": "6672adad",
   "metadata": {
    "tags": []
   },
   "source": [
    "# Menampilkan Nilai Rata-Rata \n",
    "\n",
    "Menampilkan rata-rata dengan fungsi mean()"
   ]
  },
  {
   "cell_type": "code",
   "execution_count": 29,
   "id": "cd44bdf1",
   "metadata": {},
   "outputs": [
    {
     "data": {
      "text/plain": [
       "price         22733.408867\n",
       "mileage       25496.986550\n",
       "tax             131.702068\n",
       "mpg              56.399035\n",
       "engineSize        2.167767\n",
       "dtype: float64"
      ]
     },
     "execution_count": 29,
     "metadata": {},
     "output_type": "execute_result"
    }
   ],
   "source": [
    "data[[\"price\",\"mileage\",\"tax\",\"mpg\",\"engineSize\"]].mean()"
   ]
  },
  {
   "cell_type": "markdown",
   "id": "50b038be",
   "metadata": {},
   "source": [
    "# Menampilkan Nilai Standar Deviasi\n",
    "\n",
    "Menampilkan standar deviasi dengan fungsi std()"
   ]
  },
  {
   "cell_type": "code",
   "execution_count": 30,
   "id": "c6c0602c",
   "metadata": {},
   "outputs": [
    {
     "data": {
      "text/plain": [
       "price         11415.528189\n",
       "mileage       25143.192559\n",
       "tax              61.510755\n",
       "mpg              31.336958\n",
       "engineSize        0.552054\n",
       "dtype: float64"
      ]
     },
     "execution_count": 30,
     "metadata": {},
     "output_type": "execute_result"
    }
   ],
   "source": [
    "data[[\"price\",\"mileage\",\"tax\",\"mpg\",\"engineSize\"]].std()"
   ]
  },
  {
   "cell_type": "markdown",
   "id": "65abd911",
   "metadata": {},
   "source": [
    "# Menampilkan Nilai Minimum\n",
    "Menampilkan minimum dengan fungsi min()"
   ]
  },
  {
   "cell_type": "code",
   "execution_count": 31,
   "id": "59bdd5e7",
   "metadata": {},
   "outputs": [
    {
     "data": {
      "text/plain": [
       "price         1200.0\n",
       "mileage          1.0\n",
       "tax              0.0\n",
       "mpg              5.5\n",
       "engineSize       0.0\n",
       "dtype: float64"
      ]
     },
     "execution_count": 31,
     "metadata": {},
     "output_type": "execute_result"
    }
   ],
   "source": [
    "data[[\"price\",\"mileage\",\"tax\",\"mpg\",\"engineSize\"]].min()"
   ]
  },
  {
   "cell_type": "markdown",
   "id": "f44594a2",
   "metadata": {},
   "source": [
    "# Menampilkan Nilai Maksimum\n",
    "Menampilkan maksimum dengan fungsi max()"
   ]
  },
  {
   "cell_type": "code",
   "execution_count": 32,
   "id": "0a14ba9e",
   "metadata": {},
   "outputs": [
    {
     "data": {
      "text/plain": [
       "price         123456.0\n",
       "mileage       214000.0\n",
       "tax              580.0\n",
       "mpg              470.8\n",
       "engineSize         6.6\n",
       "dtype: float64"
      ]
     },
     "execution_count": 32,
     "metadata": {},
     "output_type": "execute_result"
    }
   ],
   "source": [
    "data[[\"price\",\"mileage\",\"tax\",\"mpg\",\"engineSize\"]].max()"
   ]
  },
  {
   "cell_type": "markdown",
   "id": "dc51803a",
   "metadata": {},
   "source": [
    "# Menampilkan Q1, Q2, Q3 \n",
    "Menampilkan kuantil dengan fungsi quantile()\n",
    "\n",
    "**0.25 untuk Q1**\\\n",
    "**0.5  untuk Q2**\\\n",
    "**0.75 untuk Q3**"
   ]
  },
  {
   "cell_type": "code",
   "execution_count": 33,
   "id": "761efff6",
   "metadata": {},
   "outputs": [
    {
     "data": {
      "text/html": [
       "<div>\n",
       "<style scoped>\n",
       "    .dataframe tbody tr th:only-of-type {\n",
       "        vertical-align: middle;\n",
       "    }\n",
       "\n",
       "    .dataframe tbody tr th {\n",
       "        vertical-align: top;\n",
       "    }\n",
       "\n",
       "    .dataframe thead th {\n",
       "        text-align: right;\n",
       "    }\n",
       "</style>\n",
       "<table border=\"1\" class=\"dataframe\">\n",
       "  <thead>\n",
       "    <tr style=\"text-align: right;\">\n",
       "      <th></th>\n",
       "      <th>price</th>\n",
       "      <th>mileage</th>\n",
       "      <th>tax</th>\n",
       "      <th>mpg</th>\n",
       "      <th>engineSize</th>\n",
       "    </tr>\n",
       "  </thead>\n",
       "  <tbody>\n",
       "    <tr>\n",
       "      <th>0.25</th>\n",
       "      <td>14950.0</td>\n",
       "      <td>5529.0</td>\n",
       "      <td>135.0</td>\n",
       "      <td>45.6</td>\n",
       "      <td>2.0</td>\n",
       "    </tr>\n",
       "    <tr>\n",
       "      <th>0.50</th>\n",
       "      <td>20462.0</td>\n",
       "      <td>18347.0</td>\n",
       "      <td>145.0</td>\n",
       "      <td>53.3</td>\n",
       "      <td>2.0</td>\n",
       "    </tr>\n",
       "    <tr>\n",
       "      <th>0.75</th>\n",
       "      <td>27940.0</td>\n",
       "      <td>38206.0</td>\n",
       "      <td>145.0</td>\n",
       "      <td>62.8</td>\n",
       "      <td>2.0</td>\n",
       "    </tr>\n",
       "  </tbody>\n",
       "</table>\n",
       "</div>"
      ],
      "text/plain": [
       "        price  mileage    tax   mpg  engineSize\n",
       "0.25  14950.0   5529.0  135.0  45.6         2.0\n",
       "0.50  20462.0  18347.0  145.0  53.3         2.0\n",
       "0.75  27940.0  38206.0  145.0  62.8         2.0"
      ]
     },
     "execution_count": 33,
     "metadata": {},
     "output_type": "execute_result"
    }
   ],
   "source": [
    "data[[\"price\",\"mileage\",\"tax\",\"mpg\",\"engineSize\"]].quantile([0.25,0.5,0.75])"
   ]
  },
  {
   "cell_type": "markdown",
   "id": "62f01bc0",
   "metadata": {},
   "source": [
    "# Menampilkan Statistik Deskriptif\n",
    "\n",
    "Menampilkan total record, rata-rata, simpangan baku, nilai minimum, maksimum,\\\n",
    "dan kuantil dengan menggunakan fungsi **describe()**"
   ]
  },
  {
   "cell_type": "code",
   "execution_count": 34,
   "id": "2f79f63c",
   "metadata": {},
   "outputs": [
    {
     "data": {
      "text/html": [
       "<div>\n",
       "<style scoped>\n",
       "    .dataframe tbody tr th:only-of-type {\n",
       "        vertical-align: middle;\n",
       "    }\n",
       "\n",
       "    .dataframe tbody tr th {\n",
       "        vertical-align: top;\n",
       "    }\n",
       "\n",
       "    .dataframe thead th {\n",
       "        text-align: right;\n",
       "    }\n",
       "</style>\n",
       "<table border=\"1\" class=\"dataframe\">\n",
       "  <thead>\n",
       "    <tr style=\"text-align: right;\">\n",
       "      <th></th>\n",
       "      <th>price</th>\n",
       "      <th>mileage</th>\n",
       "      <th>tax</th>\n",
       "      <th>mpg</th>\n",
       "      <th>engineSize</th>\n",
       "    </tr>\n",
       "  </thead>\n",
       "  <tbody>\n",
       "    <tr>\n",
       "      <th>count</th>\n",
       "      <td>10781.000000</td>\n",
       "      <td>10781.000000</td>\n",
       "      <td>10781.000000</td>\n",
       "      <td>10781.000000</td>\n",
       "      <td>10781.000000</td>\n",
       "    </tr>\n",
       "    <tr>\n",
       "      <th>mean</th>\n",
       "      <td>22733.408867</td>\n",
       "      <td>25496.986550</td>\n",
       "      <td>131.702068</td>\n",
       "      <td>56.399035</td>\n",
       "      <td>2.167767</td>\n",
       "    </tr>\n",
       "    <tr>\n",
       "      <th>std</th>\n",
       "      <td>11415.528189</td>\n",
       "      <td>25143.192559</td>\n",
       "      <td>61.510755</td>\n",
       "      <td>31.336958</td>\n",
       "      <td>0.552054</td>\n",
       "    </tr>\n",
       "    <tr>\n",
       "      <th>min</th>\n",
       "      <td>1200.000000</td>\n",
       "      <td>1.000000</td>\n",
       "      <td>0.000000</td>\n",
       "      <td>5.500000</td>\n",
       "      <td>0.000000</td>\n",
       "    </tr>\n",
       "    <tr>\n",
       "      <th>25%</th>\n",
       "      <td>14950.000000</td>\n",
       "      <td>5529.000000</td>\n",
       "      <td>135.000000</td>\n",
       "      <td>45.600000</td>\n",
       "      <td>2.000000</td>\n",
       "    </tr>\n",
       "    <tr>\n",
       "      <th>50%</th>\n",
       "      <td>20462.000000</td>\n",
       "      <td>18347.000000</td>\n",
       "      <td>145.000000</td>\n",
       "      <td>53.300000</td>\n",
       "      <td>2.000000</td>\n",
       "    </tr>\n",
       "    <tr>\n",
       "      <th>75%</th>\n",
       "      <td>27940.000000</td>\n",
       "      <td>38206.000000</td>\n",
       "      <td>145.000000</td>\n",
       "      <td>62.800000</td>\n",
       "      <td>2.000000</td>\n",
       "    </tr>\n",
       "    <tr>\n",
       "      <th>max</th>\n",
       "      <td>123456.000000</td>\n",
       "      <td>214000.000000</td>\n",
       "      <td>580.000000</td>\n",
       "      <td>470.800000</td>\n",
       "      <td>6.600000</td>\n",
       "    </tr>\n",
       "  </tbody>\n",
       "</table>\n",
       "</div>"
      ],
      "text/plain": [
       "               price        mileage           tax           mpg    engineSize\n",
       "count   10781.000000   10781.000000  10781.000000  10781.000000  10781.000000\n",
       "mean    22733.408867   25496.986550    131.702068     56.399035      2.167767\n",
       "std     11415.528189   25143.192559     61.510755     31.336958      0.552054\n",
       "min      1200.000000       1.000000      0.000000      5.500000      0.000000\n",
       "25%     14950.000000    5529.000000    135.000000     45.600000      2.000000\n",
       "50%     20462.000000   18347.000000    145.000000     53.300000      2.000000\n",
       "75%     27940.000000   38206.000000    145.000000     62.800000      2.000000\n",
       "max    123456.000000  214000.000000    580.000000    470.800000      6.600000"
      ]
     },
     "execution_count": 34,
     "metadata": {},
     "output_type": "execute_result"
    }
   ],
   "source": [
    "data[[\"price\",\"mileage\",\"tax\",\"mpg\",\"engineSize\"]].describe()"
   ]
  },
  {
   "cell_type": "markdown",
   "id": "93f36c15",
   "metadata": {},
   "source": [
    "# Menampilkan Nilai Korelasi\n",
    "\n",
    "Menampilkan nilai korelasi dengan fungsi corr()"
   ]
  },
  {
   "cell_type": "code",
   "execution_count": 35,
   "id": "b8d2e935-863e-4cfc-befb-6f00dbb3cfb3",
   "metadata": {},
   "outputs": [
    {
     "data": {
      "text/html": [
       "<div>\n",
       "<style scoped>\n",
       "    .dataframe tbody tr th:only-of-type {\n",
       "        vertical-align: middle;\n",
       "    }\n",
       "\n",
       "    .dataframe tbody tr th {\n",
       "        vertical-align: top;\n",
       "    }\n",
       "\n",
       "    .dataframe thead th {\n",
       "        text-align: right;\n",
       "    }\n",
       "</style>\n",
       "<table border=\"1\" class=\"dataframe\">\n",
       "  <thead>\n",
       "    <tr style=\"text-align: right;\">\n",
       "      <th></th>\n",
       "      <th>price</th>\n",
       "      <th>mileage</th>\n",
       "      <th>tax</th>\n",
       "      <th>mpg</th>\n",
       "      <th>engineSize</th>\n",
       "    </tr>\n",
       "  </thead>\n",
       "  <tbody>\n",
       "    <tr>\n",
       "      <th>price</th>\n",
       "      <td>1.000000</td>\n",
       "      <td>-0.605397</td>\n",
       "      <td>0.263484</td>\n",
       "      <td>-0.204882</td>\n",
       "      <td>0.460196</td>\n",
       "    </tr>\n",
       "    <tr>\n",
       "      <th>mileage</th>\n",
       "      <td>-0.605397</td>\n",
       "      <td>1.000000</td>\n",
       "      <td>-0.170747</td>\n",
       "      <td>0.118609</td>\n",
       "      <td>-0.002540</td>\n",
       "    </tr>\n",
       "    <tr>\n",
       "      <th>tax</th>\n",
       "      <td>0.263484</td>\n",
       "      <td>-0.170747</td>\n",
       "      <td>1.000000</td>\n",
       "      <td>-0.351798</td>\n",
       "      <td>0.429616</td>\n",
       "    </tr>\n",
       "    <tr>\n",
       "      <th>mpg</th>\n",
       "      <td>-0.204882</td>\n",
       "      <td>0.118609</td>\n",
       "      <td>-0.351798</td>\n",
       "      <td>1.000000</td>\n",
       "      <td>-0.399844</td>\n",
       "    </tr>\n",
       "    <tr>\n",
       "      <th>engineSize</th>\n",
       "      <td>0.460196</td>\n",
       "      <td>-0.002540</td>\n",
       "      <td>0.429616</td>\n",
       "      <td>-0.399844</td>\n",
       "      <td>1.000000</td>\n",
       "    </tr>\n",
       "  </tbody>\n",
       "</table>\n",
       "</div>"
      ],
      "text/plain": [
       "               price   mileage       tax       mpg  engineSize\n",
       "price       1.000000 -0.605397  0.263484 -0.204882    0.460196\n",
       "mileage    -0.605397  1.000000 -0.170747  0.118609   -0.002540\n",
       "tax         0.263484 -0.170747  1.000000 -0.351798    0.429616\n",
       "mpg        -0.204882  0.118609 -0.351798  1.000000   -0.399844\n",
       "engineSize  0.460196 -0.002540  0.429616 -0.399844    1.000000"
      ]
     },
     "execution_count": 35,
     "metadata": {},
     "output_type": "execute_result"
    }
   ],
   "source": [
    "data[[\"price\",\"mileage\",\"tax\",\"mpg\",\"engineSize\"]].corr()"
   ]
  },
  {
   "cell_type": "markdown",
   "id": "7b59c31f",
   "metadata": {},
   "source": [
    "# Merubah Atributte Menjadi Angka Bulat\n",
    "\n",
    "Atributte yang akan dirubah yaitu **Global_Sales** yang sebelumnya bilangan Desimal menjadi bilangan Bulat\\\n",
    "dengan menggunakan fungsi **astype()** "
   ]
  },
  {
   "cell_type": "code",
   "execution_count": 36,
   "id": "eec895da",
   "metadata": {},
   "outputs": [
    {
     "name": "stdout",
     "output_type": "stream",
     "text": [
      "Sebelum Di Ubah :  float64\n",
      "Setelah Di Ubah :  int64\n"
     ]
    }
   ],
   "source": [
    "print(\"Sebelum Di Ubah : \",data[\"mpg\"].dtypes)\n",
    "\n",
    "data[\"mpg\"] = data[\"mpg\"].astype('int64')\n",
    "\n",
    "print(\"Setelah Di Ubah : \", data[\"mpg\"].dtypes)"
   ]
  },
  {
   "cell_type": "markdown",
   "id": "65eff811",
   "metadata": {},
   "source": [
    "# Menampilkan Attribute Bertipe Angka\n",
    "\n",
    "\n",
    "Data yang ditampilkan yaitu 10 record pertama dengan fungsi head()\\\n",
    "10 merupakan berapa banyak record yang ingin ditampilkan"
   ]
  },
  {
   "cell_type": "code",
   "execution_count": 37,
   "id": "789c3c9a",
   "metadata": {
    "scrolled": true
   },
   "outputs": [
    {
     "data": {
      "text/html": [
       "<div>\n",
       "<style scoped>\n",
       "    .dataframe tbody tr th:only-of-type {\n",
       "        vertical-align: middle;\n",
       "    }\n",
       "\n",
       "    .dataframe tbody tr th {\n",
       "        vertical-align: top;\n",
       "    }\n",
       "\n",
       "    .dataframe thead th {\n",
       "        text-align: right;\n",
       "    }\n",
       "</style>\n",
       "<table border=\"1\" class=\"dataframe\">\n",
       "  <thead>\n",
       "    <tr style=\"text-align: right;\">\n",
       "      <th></th>\n",
       "      <th>year</th>\n",
       "      <th>price</th>\n",
       "      <th>mileage</th>\n",
       "      <th>tax</th>\n",
       "      <th>mpg</th>\n",
       "      <th>engineSize</th>\n",
       "    </tr>\n",
       "  </thead>\n",
       "  <tbody>\n",
       "    <tr>\n",
       "      <th>0</th>\n",
       "      <td>2014</td>\n",
       "      <td>11200</td>\n",
       "      <td>67068</td>\n",
       "      <td>125</td>\n",
       "      <td>57</td>\n",
       "      <td>2.0</td>\n",
       "    </tr>\n",
       "    <tr>\n",
       "      <th>1</th>\n",
       "      <td>2018</td>\n",
       "      <td>27000</td>\n",
       "      <td>14827</td>\n",
       "      <td>145</td>\n",
       "      <td>42</td>\n",
       "      <td>2.0</td>\n",
       "    </tr>\n",
       "    <tr>\n",
       "      <th>2</th>\n",
       "      <td>2016</td>\n",
       "      <td>16000</td>\n",
       "      <td>62794</td>\n",
       "      <td>160</td>\n",
       "      <td>51</td>\n",
       "      <td>3.0</td>\n",
       "    </tr>\n",
       "    <tr>\n",
       "      <th>3</th>\n",
       "      <td>2017</td>\n",
       "      <td>12750</td>\n",
       "      <td>26676</td>\n",
       "      <td>145</td>\n",
       "      <td>72</td>\n",
       "      <td>1.5</td>\n",
       "    </tr>\n",
       "    <tr>\n",
       "      <th>4</th>\n",
       "      <td>2014</td>\n",
       "      <td>14500</td>\n",
       "      <td>39554</td>\n",
       "      <td>160</td>\n",
       "      <td>50</td>\n",
       "      <td>3.0</td>\n",
       "    </tr>\n",
       "  </tbody>\n",
       "</table>\n",
       "</div>"
      ],
      "text/plain": [
       "   year  price  mileage  tax  mpg  engineSize\n",
       "0  2014  11200    67068  125   57         2.0\n",
       "1  2018  27000    14827  145   42         2.0\n",
       "2  2016  16000    62794  160   51         3.0\n",
       "3  2017  12750    26676  145   72         1.5\n",
       "4  2014  14500    39554  160   50         3.0"
      ]
     },
     "execution_count": 37,
     "metadata": {},
     "output_type": "execute_result"
    }
   ],
   "source": [
    "data.select_dtypes(include=['int64', 'float64']).head()"
   ]
  },
  {
   "cell_type": "markdown",
   "id": "2fe8ddaa",
   "metadata": {},
   "source": [
    "# Export Record ke File csv Baru\n",
    "\n",
    "Record yang di Export ke file csv baru merupakan attribute bertipe angka"
   ]
  },
  {
   "cell_type": "code",
   "execution_count": 39,
   "id": "c505bb6e",
   "metadata": {},
   "outputs": [],
   "source": [
    "data.select_dtypes(include=['int64', 'float64']).to_csv(\"atribut angka.csv\", index=False)"
   ]
  },
  {
   "cell_type": "code",
   "execution_count": null,
   "id": "350d6459-c82e-4ee2-ae9c-a00f10aeeb16",
   "metadata": {},
   "outputs": [],
   "source": []
  }
 ],
 "metadata": {
  "kernelspec": {
   "display_name": "sebastian_084",
   "language": "python",
   "name": "sebastian_084"
  },
  "language_info": {
   "codemirror_mode": {
    "name": "ipython",
    "version": 3
   },
   "file_extension": ".py",
   "mimetype": "text/x-python",
   "name": "python",
   "nbconvert_exporter": "python",
   "pygments_lexer": "ipython3",
   "version": "3.10.7"
  }
 },
 "nbformat": 4,
 "nbformat_minor": 5
}
